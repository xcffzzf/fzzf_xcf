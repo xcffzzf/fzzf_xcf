{
 "cells": [
  {
   "cell_type": "code",
   "execution_count": 1,
   "id": "d2a6772e",
   "metadata": {},
   "outputs": [
    {
     "name": "stdout",
     "output_type": "stream",
     "text": [
      "最优解： [1, 1, 0, 1, 0, 1, 1, 1, 1, 1]\n",
      "最优解的价值： 2380\n"
     ]
    }
   ],
   "source": [
    "import random\n",
    "\n",
    "# 定义问题参数\n",
    "n = 10  # 物品数量\n",
    "C = 30  # 背包容量\n",
    "weight = [6,3,4,5,1,2,3,5,4,2]  # 物品重量\n",
    "value = [510,220,150,340,70,160,290,430,320,110]  # 物品价值\n",
    "\n",
    "# 定义粒子群算法参数\n",
    "num_particles = 50  # 粒子数\n",
    "max_iter = 100  # 迭代次数\n",
    "w = 0.8  # 惯性因子\n",
    "c1 = 1.5  # 个体学习因子\n",
    "c2 = 1.5  # 全局学习因子\n",
    "\n",
    "# 初始化粒子和全局最优解\n",
    "particles = []\n",
    "global_best_solution = None\n",
    "global_best_fitness = float('-inf')\n",
    "past_velocity = [[0] * n for _ in range(num_particles)]\n",
    "\n",
    "for i in range(num_particles):\n",
    "    # 随机初始化一个解\n",
    "    particle = [random.randint(0, 1) for _ in range(n)]\n",
    "    particles.append(particle)\n",
    "\n",
    "    # 计算粒子的适应度函数值\n",
    "    fitness = sum([particle[i]*value[i] for i in range(n)])\n",
    "    if fitness > global_best_fitness and sum([particle[i]*weight[i] for i in range(n)]) <= C:\n",
    "        global_best_solution = particle\n",
    "        global_best_fitness = fitness\n",
    "\n",
    "# 粒子群算法迭代\n",
    "for iter in range(max_iter):\n",
    "    for i in range(num_particles):\n",
    "        # 更新粒子速度和位置\n",
    "        for j in range(n):\n",
    "            r1 = random.random()\n",
    "            r2 = random.random()\n",
    "            past_velocity[i][j] = w*past_velocity[i][j] + c1*r1*(particles[i][j]-particles[i][j]) + c2*r2*(global_best_solution[j]-particles[i][j])\n",
    "            particles[i][j] = int(particles[i][j] or past_velocity[i][j])\n",
    "\n",
    "        # 计算粒子的适应度函数值\n",
    "        fitness = sum([particles[i][j]*value[j] for j in range(n)])\n",
    "        if fitness > global_best_fitness and sum([particles[i][j]*weight[j] for j in range(n)]) <= C:\n",
    "            global_best_solution = particles[i]\n",
    "            global_best_fitness = fitness\n",
    "\n",
    "print(\"最优解：\", global_best_solution)\n",
    "print(\"最优解的价值：\", global_best_fitness)\n"
   ]
  },
  {
   "cell_type": "code",
   "execution_count": null,
   "id": "6c3aa47f",
   "metadata": {},
   "outputs": [],
   "source": []
  }
 ],
 "metadata": {
  "kernelspec": {
   "display_name": "Python 3 (ipykernel)",
   "language": "python",
   "name": "python3"
  },
  "language_info": {
   "codemirror_mode": {
    "name": "ipython",
    "version": 3
   },
   "file_extension": ".py",
   "mimetype": "text/x-python",
   "name": "python",
   "nbconvert_exporter": "python",
   "pygments_lexer": "ipython3",
   "version": "3.9.12"
  }
 },
 "nbformat": 4,
 "nbformat_minor": 5
}
