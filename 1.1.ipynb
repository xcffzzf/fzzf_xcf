{
 "cells": [
  {
   "cell_type": "code",
   "execution_count": 1,
   "id": "714f2f22",
   "metadata": {},
   "outputs": [
    {
     "name": "stdout",
     "output_type": "stream",
     "text": [
      "Best individual is: [2.894195125407783, -10.025430302563741, -19.70556800861928]\n",
      "with fitness: 100.0\n"
     ]
    }
   ],
   "source": [
    "import random\n",
    "from deap import base, creator, tools, algorithms\n",
    "\n",
    "# 定义目标函数\n",
    "def fitness(individual):\n",
    "    x1, x2, x3 = individual\n",
    "    return 4*x1 + 9*x2 + 6*x3\n",
    "\n",
    "# 定义约束条件\n",
    "def const1(individual):\n",
    "    x1, x2, x3 = individual\n",
    "    return x1 - x3 - 11.23 <= 0\n",
    "\n",
    "def const2(individual):\n",
    "    x1, x2, x3 = individual\n",
    "    return x2 + x3 - 12 == 0\n",
    "\n",
    "def const3(individual):\n",
    "    x1, x2, x3 = individual\n",
    "    return x1 + 2*x2 - 1.5 >= 0\n",
    "\n",
    "\n",
    "# 定义适应度函数和约束惩罚函数\n",
    "creator.create(\"FitnessMin\", base.Fitness, weights=(-1.0,))\n",
    "creator.create(\"Individual\", list, fitness=creator.FitnessMin)\n",
    "toolbox = base.Toolbox()\n",
    "toolbox.register(\"attr_x1\", random.uniform, 0, 10)\n",
    "toolbox.register(\"attr_x2\", random.uniform, 0, 10)\n",
    "toolbox.register(\"attr_x3\", random.uniform, 0, 10)\n",
    "toolbox.register(\"individual\", tools.initCycle, creator.Individual,\n",
    "                 (toolbox.attr_x1, toolbox.attr_x2, toolbox.attr_x3), n=1)\n",
    "toolbox.register(\"population\", tools.initRepeat, list, toolbox.individual)\n",
    "toolbox.register(\"evaluate\", fitness)\n",
    "\n",
    "# 定义约束函数和约束惩罚函数\n",
    "toolbox.decorate(\"evaluate\", tools.DeltaPenalty(const1, 100.0))\n",
    "toolbox.decorate(\"evaluate\", tools.DeltaPenalty(const2, 100.0))\n",
    "toolbox.decorate(\"evaluate\", tools.DeltaPenalty(const3, 100.0))\n",
    "\n",
    "# 定义遗传算法操作\n",
    "toolbox.register(\"mate\", tools.cxSimulatedBinary, eta=3.0)\n",
    "toolbox.register(\"mutate\", tools.mutPolynomialBounded, low=[0, -100, -100], up=[10, 100, 100], eta=3.0, indpb=0.1)\n",
    "toolbox.register(\"select\", tools.selTournament, tournsize=3)\n",
    "\n",
    "# 定义种群和进化代数\n",
    "population_size = 50\n",
    "num_generations = 100\n",
    "\n",
    "# 生成初始种群并进行进化\n",
    "population = toolbox.population(n=population_size)\n",
    "for generation in range(num_generations):\n",
    "    offspring = algorithms.varOr(population, toolbox, lambda_=population_size, cxpb=0.5, mutpb=0.1)\n",
    "    fits = toolbox.map(toolbox.evaluate, offspring)\n",
    "    for fit, ind in zip(fits, offspring):\n",
    "        ind.fitness.values = fit\n",
    "    population = toolbox.select(offspring, k=population_size)\n",
    "\n",
    "# 输出最优解\n",
    "best_ind = tools.selBest(population, k=1)[0]\n",
    "print(\"Best individual is: %s\\nwith fitness: %s\" % (best_ind, best_ind.fitness.values[0]))\n"
   ]
  },
  {
   "cell_type": "code",
   "execution_count": 2,
   "id": "b990105a",
   "metadata": {},
   "outputs": [
    {
     "name": "stdout",
     "output_type": "stream",
     "text": [
      "-196.88550027315821\n"
     ]
    }
   ],
   "source": [
    "print(fitness(best_ind))"
   ]
  },
  {
   "cell_type": "code",
   "execution_count": null,
   "id": "0942bc65",
   "metadata": {},
   "outputs": [],
   "source": []
  }
 ],
 "metadata": {
  "kernelspec": {
   "display_name": "Python 3 (ipykernel)",
   "language": "python",
   "name": "python3"
  },
  "language_info": {
   "codemirror_mode": {
    "name": "ipython",
    "version": 3
   },
   "file_extension": ".py",
   "mimetype": "text/x-python",
   "name": "python",
   "nbconvert_exporter": "python",
   "pygments_lexer": "ipython3",
   "version": "3.9.12"
  }
 },
 "nbformat": 4,
 "nbformat_minor": 5
}
