{
 "cells": [
  {
   "cell_type": "code",
   "execution_count": 1,
   "id": "e3e34d52",
   "metadata": {},
   "outputs": [
    {
     "name": "stdout",
     "output_type": "stream",
     "text": [
      "最短路径为： [1, 2, 0, 7, 6, 5, 3, 4, 9, 8]\n",
      "总距离为： 160.64938606730001\n"
     ]
    }
   ],
   "source": [
    "import math\n",
    "import random\n",
    "\n",
    "# 城市坐标\n",
    "CITIES = [(37, 52), (49, 49), (52, 64), (20, 26), (40, 30),\n",
    "          (21, 47), (17, 63), (31, 62), (52, 33), (51, 21)]\n",
    "\n",
    "# 计算两个城市之间的距离\n",
    "def distance(city1, city2):\n",
    "    return math.sqrt((city1[0]-city2[0])**2 + (city1[1]-city2[1])**2)\n",
    "\n",
    "# 计算一条路径的总距离\n",
    "def total_distance(path):\n",
    "    distance_sum = 0\n",
    "    for i in range(len(path)-1):\n",
    "        distance_sum += distance(CITIES[path[i]], CITIES[path[i+1]])\n",
    "    distance_sum += distance(CITIES[path[-1]], CITIES[path[0]])\n",
    "    return distance_sum\n",
    "\n",
    "# 定义初始温度和冷却率\n",
    "T = 1000\n",
    "ALPHA = 0.99\n",
    "\n",
    "# 定义初始解和初始适应度值\n",
    "current_path = list(range(len(CITIES)))\n",
    "random.shuffle(current_path)\n",
    "current_distance = total_distance(current_path)\n",
    "\n",
    "# 模拟退火过程\n",
    "while T > 1e-10:\n",
    "    # 生成新解\n",
    "    new_path = current_path.copy()\n",
    "    i = random.randint(0, len(CITIES)-1)\n",
    "    j = random.randint(0, len(CITIES)-1)\n",
    "    new_path[i], new_path[j] = new_path[j], new_path[i]\n",
    "    \n",
    "    # 计算新解的适应度值\n",
    "    new_distance = total_distance(new_path)\n",
    "    \n",
    "    # 判断是否接受新解\n",
    "    delta = new_distance - current_distance\n",
    "    if delta < 0 or math.exp(-delta/T) > random.random():\n",
    "        current_path = new_path\n",
    "        current_distance = new_distance\n",
    "    \n",
    "    # 降温\n",
    "    T *= ALPHA\n",
    "\n",
    "print(\"最短路径为：\", current_path)\n",
    "print(\"总距离为：\", current_distance)"
   ]
  },
  {
   "cell_type": "code",
   "execution_count": null,
   "id": "64d09003",
   "metadata": {},
   "outputs": [],
   "source": []
  }
 ],
 "metadata": {
  "kernelspec": {
   "display_name": "Python 3 (ipykernel)",
   "language": "python",
   "name": "python3"
  },
  "language_info": {
   "codemirror_mode": {
    "name": "ipython",
    "version": 3
   },
   "file_extension": ".py",
   "mimetype": "text/x-python",
   "name": "python",
   "nbconvert_exporter": "python",
   "pygments_lexer": "ipython3",
   "version": "3.9.12"
  }
 },
 "nbformat": 4,
 "nbformat_minor": 5
}
