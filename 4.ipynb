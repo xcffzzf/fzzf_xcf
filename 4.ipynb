{
 "cells": [
  {
   "cell_type": "code",
   "execution_count": 1,
   "id": "bc152193",
   "metadata": {},
   "outputs": [
    {
     "name": "stdout",
     "output_type": "stream",
     "text": [
      "最优解： [ 9.13431508e-09 -1.33447609e-08  4.21397317e-09 -1.78540749e-08\n",
      " -1.93311616e-08 -2.81101119e-08  1.19907759e-08]\n",
      "最优目标函数值： 1.905694818660856e-15\n"
     ]
    }
   ],
   "source": [
    "import numpy as np\n",
    "from scipy.optimize import minimize\n",
    "\n",
    "def objective_func(x):\n",
    "    \"\"\"\n",
    "    目标函数\n",
    "    \"\"\"\n",
    "    return x[0] ** 2 + x[1] ** 2 + x[2] ** 2 + x[3] ** 2 + x[4] ** 2 + x[5] ** 2 + x[6] ** 2\n",
    "\n",
    "def penalty_func(x):\n",
    "    \"\"\"\n",
    "    惩罚函数\n",
    "    \"\"\"\n",
    "    g1 = x[0] + x[1] + x[2] - 3\n",
    "    g2 = x[3] + x[4] + x[5] + x[6] - 4\n",
    "    return max(0, g1) ** 2 + max(0, g2) ** 2\n",
    "\n",
    "def aia(objective_func, penalty_func, dim, max_iter, pop_size, clone_size, beta_min, beta_max, gamma):\n",
    "    \"\"\"\n",
    "    AIA算法\n",
    "    \"\"\"\n",
    "    # 种群初始化\n",
    "    init_pop = np.random.uniform(low=-5, high=5, size=(pop_size, dim)) #变量-5<x<5\n",
    "    # 免疫克隆、选择、变异\n",
    "    for i in range(max_iter):\n",
    "        # 免疫克隆\n",
    "        clones = np.zeros((pop_size * clone_size, dim))\n",
    "        for j in range(pop_size):\n",
    "            beta = beta_min + (beta_max - beta_min) * (i / max_iter) ** gamma\n",
    "            num_clones = int(clone_size / (1 + np.exp(-beta * objective_func(init_pop[j]))))\n",
    "            for k in range(num_clones):\n",
    "                clones[j * clone_size + k] = init_pop[j] + np.random.normal(scale=1, size=dim)\n",
    "        # 选择\n",
    "        population = np.vstack((init_pop, clones))\n",
    "        scores = np.apply_along_axis(lambda x: objective_func(x) + penalty_func(x), 1, population)\n",
    "        indices = np.argsort(scores)[:pop_size]\n",
    "        init_pop = population[indices]\n",
    "        # 变异\n",
    "        for j in range(pop_size):\n",
    "            init_pop[j] += np.random.normal(scale=1, size=dim)\n",
    "            init_pop[j] = np.clip(init_pop[j], -5, 5)\n",
    "    # 返回最优解\n",
    "    return minimize(lambda x: objective_func(x) + penalty_func(x), x0=init_pop[0], bounds=[(-5, 5)] * dim).x\n",
    "\n",
    "x_opt = aia(objective_func, penalty_func, dim=7, max_iter=100, pop_size=50, clone_size=10, beta_min=0.01, beta_max=100, gamma=1)\n",
    "print('最优解：', x_opt)\n",
    "print('最优目标函数值：', objective_func(x_opt))\n"
   ]
  },
  {
   "cell_type": "code",
   "execution_count": null,
   "id": "2222e03e",
   "metadata": {},
   "outputs": [],
   "source": []
  }
 ],
 "metadata": {
  "kernelspec": {
   "display_name": "Python 3 (ipykernel)",
   "language": "python",
   "name": "python3"
  },
  "language_info": {
   "codemirror_mode": {
    "name": "ipython",
    "version": 3
   },
   "file_extension": ".py",
   "mimetype": "text/x-python",
   "name": "python",
   "nbconvert_exporter": "python",
   "pygments_lexer": "ipython3",
   "version": "3.9.12"
  }
 },
 "nbformat": 4,
 "nbformat_minor": 5
}
